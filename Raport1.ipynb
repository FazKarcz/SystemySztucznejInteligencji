{
 "cells": [
  {
   "cell_type": "markdown",
   "id": "37668a9b",
   "metadata": {},
   "source": [
    "Algorytm K-średnich według pseudo kodu // Raport niżej"
   ]
  },
  {
   "cell_type": "code",
   "execution_count": 1,
   "id": "8f9cc814",
   "metadata": {},
   "outputs": [],
   "source": [
    "import numpy as np\n",
    "import pandas as pd\n",
    "import matplotlib.pyplot as plt"
   ]
  },
  {
   "cell_type": "code",
   "execution_count": 20,
   "id": "e4e02ce8",
   "metadata": {},
   "outputs": [],
   "source": [
    "df = pd.read_csv('probki.csv')\n",
    "X = df.values\n",
    "M, n_features = X.shape\n"
   ]
  },
  {
   "cell_type": "code",
   "execution_count": 19,
   "id": "03006f6d",
   "metadata": {},
   "outputs": [],
   "source": [
    "m = 3  \n",
    "iters = 10\n",
    "\n",
    "U = np.zeros(M, dtype=int)"
   ]
  },
  {
   "cell_type": "code",
   "execution_count": 21,
   "id": "3edb94c6",
   "metadata": {},
   "outputs": [],
   "source": [
    "np.random.seed(1)\n",
    "random_indices = np.random.choice(M, size=m, replace=False)\n",
    "V = X[random_indices].copy()"
   ]
  },
  {
   "cell_type": "code",
   "execution_count": null,
   "id": "148e4a69",
   "metadata": {},
   "outputs": [],
   "source": [
    "#m = 4  \n",
    "#iters = 11\n",
    "\n",
    "for iteration in range(iters):\n",
    "    \n",
    "    for s in range(M):\n",
    "        distances = []\n",
    "\n",
    "        for j in range(m):\n",
    "            dist = np.sqrt(np.sum((X[s] - V[j]) ** 2))\n",
    "            distances.append(dist)\n",
    "        \n",
    "        U[s] = np.argmin(distances)\n",
    "\n",
    "    for j in range(m):\n",
    "        \n",
    "        Xgr_indices = []\n",
    "        for s in range(M):\n",
    "            if U[s] == j:\n",
    "                Xgr_indices.append(s)\n",
    "        \n",
    "        if len(Xgr_indices) == 0:\n",
    "            continue\n",
    "        \n",
    "        Xgr = X[Xgr_indices]\n",
    "        \n",
    "        for i in range(n_features):\n",
    "            V[j, i] = np.mean(Xgr[:, i])"
   ]
  },
  {
   "cell_type": "code",
   "execution_count": null,
   "id": "ec8056c2",
   "metadata": {},
   "outputs": [
    {
     "data": {
      "image/png": "[encoded data removed]",
      "text/plain": [
       "<Figure size 640x480 with 1 Axes>"
      ]
     },
     "metadata": {},
     "output_type": "display_data"
    }
   ],
   "source": [
    "for j in range(m):\n",
    "    cluster_points = X[U == j]\n",
    "    plt.scatter(cluster_points[:, 0], cluster_points[:, 1], label=f'Grupa {j+1}')\n",
    "\n",
    "plt.scatter(V[:, 0], V[:, 1], c='pink', marker='*', label='Środki')\n",
    "plt.xlabel('Atrybut 1')\n",
    "plt.ylabel('Atrybut 2')\n",
    "plt.title('Wynik K-means')\n",
    "plt.show()"
   ]
  },
  {
   "cell_type": "markdown",
   "id": "4dd93043",
   "metadata": {},
   "source": [
    "Raport (k-średnie) // Zad 1"
   ]
  },
  {
   "cell_type": "code",
   "execution_count": 22,
   "id": "f61884d3",
   "metadata": {},
   "outputs": [],
   "source": [
    "#m = 3  \n",
    "#iters = 10\n",
    "\n",
    "V_4 = None\n",
    "U_4 = None\n",
    "V_10 = None\n",
    "U_10 = None\n",
    "\n",
    "for iteration in range(iters):\n",
    "    \n",
    "    for s in range(M):\n",
    "        distances = []\n",
    "\n",
    "        for j in range(m):\n",
    "            dist = np.sqrt(np.sum((X[s] - V[j]) ** 2))\n",
    "            distances.append(dist)\n",
    "        \n",
    "        U[s] = np.argmin(distances)\n",
    "\n",
    "    for j in range(m):\n",
    "        \n",
    "        Xgr_indices = []\n",
    "        for s in range(M):\n",
    "            if U[s] == j:\n",
    "                Xgr_indices.append(s)\n",
    "        \n",
    "        if len(Xgr_indices) == 0:\n",
    "            continue\n",
    "        \n",
    "        Xgr = X[Xgr_indices]\n",
    "        \n",
    "        for i in range(n_features):\n",
    "            V[j, i] = np.mean(Xgr[:, i])\n",
    "    \n",
    "\n",
    "    if iteration == 3:\n",
    "        V_4 = V.copy()\n",
    "        U_4 = U.copy()\n",
    "    \n",
    "    if iteration == 9:\n",
    "        V_10 = V.copy()\n",
    "        U_10 = U.copy()"
   ]
  },
  {
   "cell_type": "code",
   "execution_count": 27,
   "id": "7ad135e2",
   "metadata": {},
   "outputs": [
    {
     "name": "stdout",
     "output_type": "stream",
     "text": [
      "GRUPA 1:\n",
      "  Położenie środka: x1=-1.2550, x2=-0.6915\n",
      "  Liczba próbek: 30\n",
      "  x1: min=-1.7790, max=-0.1725\n",
      "  x2: min=-1.5277, max=0.5807\n",
      "\n",
      "GRUPA 2:\n",
      "  Położenie środka: x1=-0.5158, x2=1.3325\n",
      "  Liczba próbek: 29\n",
      "  x1: min=-1.6673, max=0.6735\n",
      "  x2: min=0.7270, max=1.9929\n",
      "\n",
      "GRUPA 3:\n",
      "  Położenie środka: x1=0.8858, x2=-0.4188\n",
      "  Liczba próbek: 41\n",
      "  x1: min=-0.1226, max=1.3375\n",
      "  x2: min=-1.5564, max=0.8573\n",
      "\n"
     ]
    }
   ],
   "source": [
    "# PO 4 ITERACJACH\n",
    "\n",
    "for j in range(m):\n",
    "    print(f\"GRUPA {j+1}:\")\n",
    "    print(f\"  Położenie środka: x1={V_4[j, 0]:.4f}, x2={V_4[j, 1]:.4f}\")\n",
    "    \n",
    "    points = X[U_4 == j]\n",
    "    print(f\"  Liczba próbek: {len(points)}\")\n",
    "    \n",
    "    if len(points) > 0:\n",
    "        print(f\"  x1: min={np.min(points[:, 0]):.4f}, max={np.max(points[:, 0]):.4f}\")\n",
    "        print(f\"  x2: min={np.min(points[:, 1]):.4f}, max={np.max(points[:, 1]):.4f}\")\n",
    "    print()"
   ]
  },
  {
   "cell_type": "code",
   "execution_count": 26,
   "id": "cde5dac7",
   "metadata": {},
   "outputs": [
    {
     "name": "stdout",
     "output_type": "stream",
     "text": [
      "GRUPA 1:\n",
      "  Położenie środka: x1=-1.1264, x2=-0.8741\n",
      "  Liczba próbek: 29\n",
      "  x1: min=-1.7790, max=-0.0566\n",
      "  x2: min=-1.5564, max=0.2806\n",
      "\n",
      "GRUPA 2:\n",
      "  Położenie środka: x1=-0.6709, x2=1.2714\n",
      "  Liczba próbek: 31\n",
      "  x1: min=-1.7544, max=0.5113\n",
      "  x2: min=0.4760, max=1.9929\n",
      "\n",
      "GRUPA 3:\n",
      "  Położenie środka: x1=0.9293, x2=-0.3334\n",
      "  Liczba próbek: 40\n",
      "  x1: min=0.1669, max=1.3375\n",
      "  x2: min=-1.4508, max=0.8573\n",
      "\n"
     ]
    }
   ],
   "source": [
    "# PO 10 ITERACJACH\n",
    "\n",
    "for j in range(m):\n",
    "    print(f\"GRUPA {j+1}:\")\n",
    "    print(f\"  Położenie środka: x1={V_10[j, 0]:.4f}, x2={V_10[j, 1]:.4f}\")\n",
    "    \n",
    "    points = X[U_10 == j]\n",
    "    print(f\"  Liczba próbek: {len(points)}\")\n",
    "    \n",
    "    if len(cluster_points) > 0:\n",
    "        print(f\"  x1: min={np.min(points[:, 0]):.4f}, max={np.max(points[:, 0]):.4f}\")\n",
    "        print(f\"  x2: min={np.min(points[:, 1]):.4f}, max={np.max(points[:, 1]):.4f}\")\n",
    "    print()"
   ]
  }
 ],
 "metadata": {
  "kernelspec": {
   "display_name": "base",
   "language": "python",
   "name": "python3"
  },
  "language_info": {
   "codemirror_mode": {
    "name": "ipython",
    "version": 3
   },
   "file_extension": ".py",
   "mimetype": "text/x-python",
   "name": "python",
   "nbconvert_exporter": "python",
   "pygments_lexer": "ipython3",
   "version": "3.12.7"
  }
 },
 "nbformat": 4,
 "nbformat_minor": 5
}
